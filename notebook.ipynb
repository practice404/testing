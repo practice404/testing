{
 "cells": [
  {
   "cell_type": "code",
   "execution_count": 1,
   "metadata": {
    "collapsed": true
   },
   "outputs": [],
   "source": [
    "t = u\"\\u0066\\u0061\\u006C\\u006C\\u0069\\u006E\\u0067\\u0020\\u0069\\u006E\\u0020\\u006C\\u006F\\u0076\\u0065\\u0020\\u0077\\u0069\\u0074\\u0068\\u0020\\u0079\\u006F\\u0075\\u0020\\u006F\\u0076\\u0065\\u0072\\u0020\\u0061\\u006E\\u0064\\u0020\\u006F\\u0076\\u0065\\u0072\\u0020\\u0061\\u0067\\u0061\\u0069\\u006E\""
   ]
  },
  {
   "cell_type": "code",
   "execution_count": 2,
   "metadata": {
    "collapsed": false
   },
   "outputs": [
    {
     "data": {
      "text/plain": [
       "b'falling in love with you over and over again'"
      ]
     },
     "execution_count": 2,
     "metadata": {},
     "output_type": "execute_result"
    }
   ],
   "source": [
    "t.encode(\"ascii\")"
   ]
  },
  {
   "cell_type": "code",
   "execution_count": null,
   "metadata": {
    "collapsed": false
   },
   "outputs": [],
   "source": []
  }
 ],
 "metadata": {
  "kernelspec": {
   "display_name": "Python 3",
   "language": "python",
   "name": "python3"
  },
  "language_info": {
   "codemirror_mode": {
    "name": "ipython",
    "version": 3
   },
   "file_extension": ".py",
   "mimetype": "text/x-python",
   "name": "python",
   "nbconvert_exporter": "python",
   "pygments_lexer": "ipython3",
   "version": "3.8.10"
  }
 },
 "nbformat": 4,
 "nbformat_minor": 0
}
